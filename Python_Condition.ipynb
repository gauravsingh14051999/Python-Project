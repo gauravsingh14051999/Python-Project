{
  "nbformat": 4,
  "nbformat_minor": 0,
  "metadata": {
    "colab": {
      "provenance": []
    },
    "kernelspec": {
      "name": "python3",
      "display_name": "Python 3"
    },
    "language_info": {
      "name": "python"
    }
  },
  "cells": [
    {
      "cell_type": "code",
      "execution_count": null,
      "metadata": {
        "colab": {
          "base_uri": "https://localhost:8080/"
        },
        "id": "7GRRnfb7mJmn",
        "outputId": "74bedff6-593c-4df6-bc67-7d2ebfe6ddb5"
      },
      "outputs": [
        {
          "output_type": "stream",
          "name": "stdout",
          "text": [
            "Enter First Number15\n",
            "Enter Second Number15\n",
            "Two integers are equal 15 15\n"
          ]
        }
      ],
      "source": [
        "#1\n",
        "a=int(input(\"Enter First Number\"))\n",
        "b=int(input(\"Enter Second Number\"))\n",
        "if a==b:\n",
        "  print(\"Two integers are equal\",a,b)\n",
        "else:\n",
        "  print(\"Two integers are not equal\",a,b)"
      ]
    },
    {
      "cell_type": "code",
      "source": [
        "#2\n",
        "e=int(input(\"Enter Number\"))\n",
        "\n",
        "if e%2==0:\n",
        "  print(\"Enter Number is Even Number\",a)\n",
        "else:\n",
        "  print(\"Enter number is odd Number\",a)"
      ],
      "metadata": {
        "colab": {
          "base_uri": "https://localhost:8080/"
        },
        "id": "K0EENUDeo1z_",
        "outputId": "b45875e3-25b2-4c00-beb4-58f10db7b333"
      },
      "execution_count": null,
      "outputs": [
        {
          "output_type": "stream",
          "name": "stdout",
          "text": [
            "Enter Number3\n",
            "Enter number is odd Number 3\n"
          ]
        }
      ]
    },
    {
      "cell_type": "code",
      "source": [
        "#3\n",
        "x=int(input(\"Enter Number: \"))\n",
        "\n",
        "if x > 0:\n",
        "  print(\"Entered Number is Positive\",a)\n",
        "else:\n",
        "  print(\"Entered Number is Negative\",a)\n",
        "\n"
      ],
      "metadata": {
        "colab": {
          "base_uri": "https://localhost:8080/"
        },
        "id": "LumJ8UXDr0D5",
        "outputId": "30e96887-1ef1-4e76-b3ce-ea828f51f87e"
      },
      "execution_count": null,
      "outputs": [
        {
          "output_type": "stream",
          "name": "stdout",
          "text": [
            "Enter Number: -8\n",
            "Entered Number is Negative -8\n"
          ]
        }
      ]
    },
    {
      "cell_type": "code",
      "source": [
        "#4\n",
        "y=int(input(\"Enter Year: \"))\n",
        "\n",
        "if (y % 4 == 0 and y % 100 != 0) or (y % 400 == 0):\n",
        "  print(\"Leap Year \",a)\n",
        "else:\n",
        "  print(\"Not Leap Year\",a)"
      ],
      "metadata": {
        "colab": {
          "base_uri": "https://localhost:8080/"
        },
        "id": "Nc7R_JPLsrxA",
        "outputId": "ffce9d70-c30b-4dc3-cb3f-d6e0c70264b1"
      },
      "execution_count": null,
      "outputs": [
        {
          "output_type": "stream",
          "name": "stdout",
          "text": [
            "Enter Year: 1800\n",
            "Not Leap Year 1800\n"
          ]
        }
      ]
    },
    {
      "cell_type": "code",
      "source": [
        "#5\n",
        "b=int(input(\"Enter Age: \"))\n",
        "\n",
        "if b > 18:\n",
        "  print(\"Congratulations! You are eligible for casting your vote\")\n",
        "else:\n",
        "  print(\"You are Not eligible for voting\")"
      ],
      "metadata": {
        "colab": {
          "base_uri": "https://localhost:8080/"
        },
        "id": "4E0UosgpuJy-",
        "outputId": "27dc5874-d1a0-4a95-ee7c-42c5e1051fde"
      },
      "execution_count": null,
      "outputs": [
        {
          "output_type": "stream",
          "name": "stdout",
          "text": [
            "Enter Age: 23\n",
            "Congratulations! You are eligible for casting your vote\n"
          ]
        }
      ]
    },
    {
      "cell_type": "code",
      "source": [
        "#6\n",
        "x=int(input(\"Enter Number: \"))\n",
        "\n",
        "if x > 0:\n",
        "  n=1\n",
        "  print(\"Value of n  is: \",n)\n",
        "elif x == 0:\n",
        "  n=-1\n",
        "  print(\"Value of n  is: \",n)\n",
        "elif x < 0:\n",
        "  n=0\n",
        "  print(\"Value of n  is: \",n)\n"
      ],
      "metadata": {
        "colab": {
          "base_uri": "https://localhost:8080/"
        },
        "id": "Md2z3ptmvFlU",
        "outputId": "5d43b7f7-483e-4878-98b9-a59ace01b002"
      },
      "execution_count": null,
      "outputs": [
        {
          "output_type": "stream",
          "name": "stdout",
          "text": [
            "Enter Number: -8\n",
            "Value of n  is:  0\n"
          ]
        }
      ]
    },
    {
      "cell_type": "code",
      "source": [
        "#7\n",
        "b=int(input(\"Enter Height in Cms: \"))\n",
        "\n",
        "if b > 150:\n",
        "  print(\"The person is Dwarf\")\n",
        "else:\n",
        "  print(\"The person is not Dwarf\")"
      ],
      "metadata": {
        "colab": {
          "base_uri": "https://localhost:8080/"
        },
        "id": "DEh0PU0Yxnp3",
        "outputId": "20ca6b45-de24-4a18-caf0-74022581a0c3"
      },
      "execution_count": null,
      "outputs": [
        {
          "output_type": "stream",
          "name": "stdout",
          "text": [
            "Enter Height in Cms: 151\n",
            "The person is Dwarf\n"
          ]
        }
      ]
    },
    {
      "cell_type": "code",
      "source": [
        "#8\n",
        "a=int(input(\"Enter First Number: \"))\n",
        "b=int(input(\"Enter Second Number: \"))\n",
        "c=int(input(\"Enter Third Number: \"))\n",
        "if a > b and a > c:\n",
        "  print(\"The First Number is the greatest among three\")\n",
        "elif b > a and a > c:\n",
        "  print(\"The 2nd Number is the greatest among three\")\n",
        "elif a > b and a > c:\n",
        "  print(\"The 3rd Number is the greatest among three\") \n"
      ],
      "metadata": {
        "colab": {
          "base_uri": "https://localhost:8080/"
        },
        "id": "y8APdsrwyoCp",
        "outputId": "c5f79696-aeb5-4bea-8353-715dea4827b4"
      },
      "execution_count": null,
      "outputs": [
        {
          "output_type": "stream",
          "name": "stdout",
          "text": [
            "Enter First Number: 56\n",
            "Enter Second Number: 78\n",
            "Enter Third Number: 12\n",
            "The 2nd Number is the greatest among three\n"
          ]
        }
      ]
    },
    {
      "cell_type": "code",
      "source": [
        "#9\n",
        "a=int(input(\"Enter X Co-ordinate: \"))\n",
        "b=int(input(\"Enter Y Co-ordinate: \"))\n",
        "if a > 0 and b > 0:\n",
        "  print(\"The coordinate point\",(a,b),\"lies in the First quadrant.\")\n",
        "elif a < 0 and b > 0:\n",
        "  print(\"The coordinate point\",(a,b),\" lies in the Second quadrant.\")\n",
        "elif a > 0 and b > 0:\n",
        "  print(\"The coordinate poin\",(a,b),\" lies in the Third quadrant.\")\n",
        "elif a > 0 and b < 0:\n",
        "  print(\"The coordinate point\",(a,b),\" lies in the Fourth quadrant.\")"
      ],
      "metadata": {
        "colab": {
          "base_uri": "https://localhost:8080/"
        },
        "id": "71CyJi9N2Smr",
        "outputId": "bb87d004-09cb-4346-be22-4d9e02fae408"
      },
      "execution_count": null,
      "outputs": [
        {
          "output_type": "stream",
          "name": "stdout",
          "text": [
            "Enter X Co-ordinate: 5\n",
            "Enter Y Co-ordinate: 6\n",
            "The coordinate point (5, 6) lies in the First quadrant.\n"
          ]
        }
      ]
    },
    {
      "cell_type": "code",
      "source": [
        "#10\n",
        "m=int(input(\"Enter Maths Marks: \"))\n",
        "p=int(input(\"Enter Physics Marks: \"))\n",
        "c=int(input(\"Enter Chemistry Marks: \"))\n",
        "if (m >= 65 and p >= 55 and c >=50 (m+p+c) >= 190) or (m+p)>=140:\n",
        "  print(\"congratulation! You are eligible for admission\")\n",
        "else:\n",
        "  print(\"You are not eligible for admission\")\n"
      ],
      "metadata": {
        "colab": {
          "base_uri": "https://localhost:8080/"
        },
        "id": "7Lf0KVE-5CsA",
        "outputId": "77d78491-9beb-4a79-a943-d68dda552cd8"
      },
      "execution_count": null,
      "outputs": [
        {
          "output_type": "stream",
          "name": "stdout",
          "text": [
            "Enter Maths Marks: 65\n",
            "Enter Physics Marks: 51\n",
            "Enter Chemistry Marks: 72\n",
            "You are not eligible for admission\n"
          ]
        }
      ]
    },
    {
      "cell_type": "code",
      "source": [
        "#11\n",
        "a=int(input(\"enter coefficient of X^2:\"))\n",
        "b=int(input(\"enter coefficient of X:\"))\n",
        "c=int(input(\"enter constant in equation:\"))\n",
        "result=(-b+(b**2-4*a*c)**(1/2))/(2*a)\n",
        "if type(result)==complex:\n",
        "  print(\"its an imaginary root\")\n",
        "print(\"roots are:\",result)\n"
      ],
      "metadata": {
        "colab": {
          "base_uri": "https://localhost:8080/"
        },
        "id": "zju87zOO8kRa",
        "outputId": "69eb43f3-18e0-4992-a551-cb0497746a2e"
      },
      "execution_count": null,
      "outputs": [
        {
          "output_type": "stream",
          "name": "stdout",
          "text": [
            "enter coefficient of X^2:1\n",
            "enter coefficient of X:5\n",
            "enter constant in equation:7\n",
            "its an imaginary root\n",
            "roots are: (-2.5+0.8660254037844386j)\n"
          ]
        }
      ]
    },
    {
      "cell_type": "code",
      "source": [
        "#12\n",
        "a=input(\"Roll Number: \")\n",
        "b=input(\"Enter Name: \")\n",
        "m=int(input(\"Enter Maths Marks: \"))\n",
        "p=int(input(\"Enter Physics Marks: \"))\n",
        "c=int(input(\"Enter Chemistry Marks: \"))\n",
        "sum=m+p+c\n",
        "per=(m+p+c)/300*100\n",
        "print(\"Roll no. :\",m,\"\\nEnter Name:\",b,\"\\nMaths Marks:\",m,\"\\nPhysics Marks\",p,\"\\nChemistry Marks:\",c,\"\\nTotal Marks: \",sum,\"\\nPerceentage is: \",per)\n",
        "if per>=80:\n",
        "  print(\"First Division\")\n",
        "elif per>=70:\n",
        "  print(\"Second Devision\")\n",
        "elif per>=60:\n",
        "  print(\"Passed\")\n",
        "else:\n",
        "  print(\"Fail\")"
      ],
      "metadata": {
        "colab": {
          "base_uri": "https://localhost:8080/"
        },
        "id": "7V2FdalgHVY3",
        "outputId": "3f268c35-83d7-4797-bee6-b07863243ec8"
      },
      "execution_count": null,
      "outputs": [
        {
          "output_type": "stream",
          "name": "stdout",
          "text": [
            "Roll Number: 80\n",
            "Enter Name: James\n",
            "Enter Maths Marks: 70\n",
            "Enter Physics Marks: 80\n",
            "Enter Chemistry Marks: 90\n",
            "Roll no. : 70 \n",
            "Enter Name: James \n",
            "Maths Marks: 70 \n",
            "Physics Marks 80 \n",
            "Chemistry Marks: 90 \n",
            "Total Marks:  240 \n",
            "Perceentage is:  80.0\n",
            "First Division\n"
          ]
        }
      ]
    },
    {
      "cell_type": "code",
      "source": [
        "#13\n",
        "t = int(input(\"Enter Temperature=\"))\n",
        "if t >=40:\n",
        "  print(\"  Very Hot weather\")\n",
        "elif t >=30:\n",
        "  print(\" Hot weather\") \n",
        "elif t >=20:\n",
        "  print(\" Normal weather\") \n",
        "elif t >=10:\n",
        "  print(\" Cold weather\") \n",
        "elif t >=0 :\n",
        "  print(\"Very Cold weather\") \n",
        "else:\n",
        "  print(\"Freezing weather\")\n"
      ],
      "metadata": {
        "colab": {
          "base_uri": "https://localhost:8080/"
        },
        "id": "QTEl3EhsKPCr",
        "outputId": "a36769a2-148e-4dcd-91d9-de057bcc42b2"
      },
      "execution_count": null,
      "outputs": [
        {
          "output_type": "stream",
          "name": "stdout",
          "text": [
            "Enter Temperature=45\n",
            "  Very Hot weather\n"
          ]
        }
      ]
    },
    {
      "cell_type": "code",
      "source": [
        "#14\n",
        "a=int(input(\"Enter Sides of the Triangle.\\n\"))\n",
        "b=int(input(\"Enter Sides of the Triangle.\\n\"))\n",
        "c=int(input(\"Enter Sides of the Triangle.\\n\"))\n",
        "\n",
        "if a==b==c:\n",
        "  print(\"The Triangle is : Equilateral triangle\")\n",
        "elif a==b or b==c or a==c:\n",
        "  print(\"The Triangle is : Isosceles triangle\")\n",
        "elif a!=b!=c:\n",
        "  print(\"The Triangle is : Scalene triangle\")\n",
        "else:\n",
        "  print(\"Bye\")\n"
      ],
      "metadata": {
        "colab": {
          "base_uri": "https://localhost:8080/"
        },
        "id": "SxpUmLA3LqMD",
        "outputId": "611c77a3-9588-4cbe-a70e-cc7a6e862202"
      },
      "execution_count": null,
      "outputs": [
        {
          "output_type": "stream",
          "name": "stdout",
          "text": [
            "Enter Sides of the Triangle.\n",
            "50\n",
            "Enter Sides of the Triangle.\n",
            "50\n",
            "Enter Sides of the Triangle.\n",
            "60\n",
            "The Triangle is : Isosceles triangle\n"
          ]
        }
      ]
    },
    {
      "cell_type": "code",
      "source": [
        "#15\n",
        "a=int(input(\"Enter Sides of the Triangle.\\n\"))\n",
        "b=int(input(\"Enter Sides of the Triangle.\\n\"))\n",
        "c=int(input(\"Enter Sides of the Triangle.\\n\"))\n",
        "\n",
        "if a+b<=c or b+c<=a and a+c<=b:\n",
        "  print(\"It is a Valid Triangle\")\n",
        "\n",
        "else:\n",
        "  print(\"It is not a valid triangle\")"
      ],
      "metadata": {
        "colab": {
          "base_uri": "https://localhost:8080/"
        },
        "id": "XX_o2VoBNcG7",
        "outputId": "6888f55b-aa28-4d58-d83e-b1e924c67bd8"
      },
      "execution_count": null,
      "outputs": [
        {
          "output_type": "stream",
          "name": "stdout",
          "text": [
            "Enter Sides of the Triangle.\n",
            "40\n",
            "Enter Sides of the Triangle.\n",
            "55\n",
            "Enter Sides of the Triangle.\n",
            "65\n",
            "It is not a valid triangle\n"
          ]
        }
      ]
    },
    {
      "cell_type": "code",
      "source": [
        "#16\n",
        "check=input(\"Enter anything: \")\n",
        "\n",
        "if check.isupper():\n",
        "  print(\"upper\")\n",
        "elif check.islower():\n",
        "  print(\"lower\")\n",
        "elif check.isdigit():\n",
        "  print(\"Digit\")\n",
        "else:\n",
        "  print(\"Special Character\")\n",
        "\n",
        "\n"
      ],
      "metadata": {
        "colab": {
          "base_uri": "https://localhost:8080/"
        },
        "id": "vrlBHZxIOEBj",
        "outputId": "4ace0245-6c04-45f1-ee91-4902631785c6"
      },
      "execution_count": null,
      "outputs": [
        {
          "output_type": "stream",
          "name": "stdout",
          "text": [
            "Enter anything: @\n",
            "Special Character\n"
          ]
        }
      ]
    },
    {
      "cell_type": "code",
      "source": [
        "#17\n",
        "x=input(\"Enter anything: \")\n",
        "#y=x.isalpha()\n",
        "if x=='a' or 'e'==x or 'i'==x or 'o'==x or 'u'==x:\n",
        "  print(\"Vowels\")\n",
        "else:\n",
        "  print(\"Consonant\")"
      ],
      "metadata": {
        "colab": {
          "base_uri": "https://localhost:8080/"
        },
        "id": "MNaajCRoRRYz",
        "outputId": "8db35440-2ac9-4b24-ec9f-755938a7da2e"
      },
      "execution_count": null,
      "outputs": [
        {
          "output_type": "stream",
          "name": "stdout",
          "text": [
            "Enter anything: k\n",
            "Consonant\n"
          ]
        }
      ]
    },
    {
      "cell_type": "code",
      "source": [
        "#18\n",
        "a=int(input(\"Enter Purchase amount.\\n\"))\n",
        "b=int(input(\"Enter Selling Amouut.\\n\"))\n",
        "\n",
        "sum=a-b\n",
        "\n",
        "if sum>0:\n",
        "  print(\"Your Profit ammout  is: Rs\",sum)\n",
        "\n",
        "else:\n",
        "  print(\"Your are in loss :Rs\",sum)"
      ],
      "metadata": {
        "colab": {
          "base_uri": "https://localhost:8080/"
        },
        "id": "i8W9ipkAUwtu",
        "outputId": "3d2e8665-2cc5-4d4e-dee5-46bddf9da019"
      },
      "execution_count": null,
      "outputs": [
        {
          "output_type": "stream",
          "name": "stdout",
          "text": [
            "Enter Purchase amount.\n",
            "300\n",
            "Enter Selling Amouut.\n",
            "400\n",
            "Your are in loss :Rs -100\n"
          ]
        }
      ]
    },
    {
      "cell_type": "code",
      "source": [
        "#19\n",
        "x=input(\"Customer ID No.\\n\")\n",
        "y=input(\"Enter Name.\\n\")\n",
        "a=int(input(\"Enter your Electricity unit.\\n\"))\n",
        "s=0\n",
        "print(\"Customer ID No.\",x,\"\\nName:\",y,\"\\nUnit:\",a)\n",
        "if a<=199:\n",
        "  s=a*1.20\n",
        "  print(\"Amount Charges @Rs. 1.20 per unit :\",s)\n",
        "elif 200<=a<=400:\n",
        "  s=a*1.50\n",
        "  print(\"Amount Charges @Rs. 1.50 per unit :\",s)\n",
        "elif 401<=a<=600:\n",
        "  s=a*1.80\n",
        "  print(\"Amount Charges @Rs. 1.80 per unit :\",s)\n",
        "else:\n",
        "  s=a*2.00\n",
        "  print(\"Amount Charges @Rs. 2.00 per unit :\",s)\n",
        "\n",
        "if s<400:\n",
        "  b=s+100\n",
        "  print(\"Service Charge: 100\")\n",
        "  print(\"Net Amount Paid By the Customer:\",b)\n",
        "\n",
        "elif s>401:\n",
        "  b=s/100*15+s\n",
        "  print(\"Service Charge:\",s/100*15 )\n",
        "  print(\"Net Amount Paid By the Customer:\",b)\n"
      ],
      "metadata": {
        "colab": {
          "base_uri": "https://localhost:8080/"
        },
        "id": "_58fwHqoWlgC",
        "outputId": "c0c17670-85ab-4a41-c37a-e6fa9e31bf1b"
      },
      "execution_count": null,
      "outputs": [
        {
          "output_type": "stream",
          "name": "stdout",
          "text": [
            "Customer ID No.\n",
            "1001\n",
            "Enter Name.\n",
            "James\n",
            "Enter your Electricity unit.\n",
            "245\n",
            "Customer ID No. 1001 \n",
            "Name: James \n",
            "Unit: 245\n",
            "Amount Charges @Rs. 1.50 per unit : 367.5\n",
            "Service Charge: 100\n",
            "Net Amount Paid By the Customer: 467.5\n"
          ]
        }
      ]
    },
    {
      "cell_type": "code",
      "source": [
        "\n",
        "#20. Write a program in C to accept a grade and declare the equivalent description :\n",
        "y=input(\"Enter Grade.\\n\")\n",
        "\n",
        "if y == 'E':\n",
        "  print(\"You have chosen : Excellent\")\n",
        "elif y == 'V':\n",
        "  print(\"You have chosen : Very Good\")\n",
        "elif y == 'G':\n",
        "  print(\"You have chosen : Good\")\n",
        "elif y == 'A':\n",
        "  print(\"You have chosen : Average\")\n",
        "elif y == 'F':\n",
        "  print(\"You have chosen : Failed\")"
      ],
      "metadata": {
        "colab": {
          "base_uri": "https://localhost:8080/"
        },
        "id": "ChQT9F5lu32_",
        "outputId": "2e30883b-0013-46cc-ca98-741df6d36eca"
      },
      "execution_count": null,
      "outputs": [
        {
          "output_type": "stream",
          "name": "stdout",
          "text": [
            "Enter Grade.\n",
            "A\n",
            "You have chosen : Average\n"
          ]
        }
      ]
    },
    {
      "cell_type": "code",
      "source": [
        "#21. Write a program in C to read any day number in integer and display day name in the word.\n",
        "c=int(input(\"Enter a number:\"))\n",
        "if c==1:\n",
        "  print(\"Monday\")\n",
        "elif c==2:\n",
        "  print(\"Tueday\")\n",
        "elif c==3:\n",
        "  print(\"Wednesday\")\n",
        "elif c==4:\n",
        "  print(\"Thursday\")\n",
        "elif c==5:\n",
        "  print(\"Friday\")\n",
        "elif c==6:\n",
        "  print(\"Saturday\")\n",
        "elif c==7:\n",
        "  print(\"Sunday\")\n",
        "else:\n",
        "  print(\"Invalid Input\")"
      ],
      "metadata": {
        "colab": {
          "base_uri": "https://localhost:8080/"
        },
        "id": "eSXaFvkm21Wy",
        "outputId": "19fe0936-3be9-4a87-b066-8633e1cf533b"
      },
      "execution_count": null,
      "outputs": [
        {
          "output_type": "stream",
          "name": "stdout",
          "text": [
            "Enter a number:7\n",
            "Sunday\n"
          ]
        }
      ]
    },
    {
      "cell_type": "code",
      "source": [
        "#22.\n",
        "c=int(input(\"Enter a number:\"))\n",
        "if c==0:\n",
        "  print(\"Zero\")\n",
        "if c==1:\n",
        "  print(\"One\")\n",
        "elif c==2:\n",
        "  print(\"Two\")\n",
        "elif c==3:\n",
        "  print(\"Three\")\n",
        "elif c==4:\n",
        "  print(\"Four\")\n",
        "elif c==5:\n",
        "  print(\"Five\")\n",
        "elif c==6:\n",
        "  print(\"Six\")\n",
        "elif c==7:\n",
        "  print(\"Seven\")\n",
        "elif c==8:\n",
        "  print(\"Eight\")\n",
        "elif c==9:\n",
        "  print(\"Nine\")\n",
        "\n",
        "else:\n",
        "  print(\"Invalid Input\")"
      ],
      "metadata": {
        "colab": {
          "base_uri": "https://localhost:8080/"
        },
        "id": "PWIcgU5co_rF",
        "outputId": "b2e8cbdc-6673-4eee-d3f0-efced61b26e9"
      },
      "execution_count": null,
      "outputs": [
        {
          "output_type": "stream",
          "name": "stdout",
          "text": [
            "Enter a number:4\n",
            "Four\n"
          ]
        }
      ]
    },
    {
      "cell_type": "code",
      "source": [
        "#23. Write a program in C to read any Month Number in integer and display Month name in the word.\n",
        "c=int(input(\"Enter a number:\"))\n",
        "if c==1:\n",
        "  print(\"January\")\n",
        "elif c==2:\n",
        "  print(\"Februray\")\n",
        "elif c==3:\n",
        "  print(\"March\")\n",
        "elif c==4:\n",
        "  print(\"April\")\n",
        "elif c==5:\n",
        "  print(\"May\")\n",
        "elif c==6:\n",
        "  print(\"June\")\n",
        "elif c==7:\n",
        "  print(\"July\")\n",
        "elif c==8:\n",
        "  print(\"August\")\n",
        "elif c==9:\n",
        "  print(\"September\")\n",
        "elif c==10:\n",
        "  print(\"Octuber\")\n",
        "elif c==11:\n",
        "  print(\"November\")\n",
        "elif c==12:\n",
        "  print(\"December\")\n",
        "else:\n",
        "  print(\"Invalid Input\")"
      ],
      "metadata": {
        "colab": {
          "base_uri": "https://localhost:8080/"
        },
        "id": "z-La3Omv4wEr",
        "outputId": "754b0a64-058e-49c7-ca73-a767aed378be"
      },
      "execution_count": null,
      "outputs": [
        {
          "output_type": "stream",
          "name": "stdout",
          "text": [
            "Enter a number:11\n",
            "November\n"
          ]
        }
      ]
    },
    {
      "cell_type": "code",
      "source": [
        "c=int(input(\"Enter a number:\"))\n",
        "if c==1:\n",
        "  print(\"Month have 31 days\")\n",
        "elif c==2:\n",
        "  print(\"Month have 28 days\")\n",
        "elif c==3:\n",
        "  print(\"Month have 31 days\")\n",
        "elif c==4:\n",
        "  print(\"Month have 30 days\")\n",
        "elif c==5:\n",
        "  print(\"Month have 31 days\")\n",
        "elif c==6:\n",
        "  print(\"Month have 30 days\")\n",
        "elif c==7:\n",
        "  print(\"Month have 31 days\")\n",
        "elif c==8:\n",
        "  print(\"Month have 31 days\")\n",
        "elif c==9:\n",
        "  print(\"Month have 30 days\")\n",
        "elif c==10:\n",
        "  print(\"Month have 31 days\")\n",
        "elif c==11:\n",
        "  print(\"Month have 30 days\")\n",
        "elif c==12:\n",
        "  print(\"Month have 31 days\")\n",
        "else:\n",
        "  print(\"Invalid Input\")"
      ],
      "metadata": {
        "colab": {
          "base_uri": "https://localhost:8080/"
        },
        "id": "h6ZidGaeM9EJ",
        "outputId": "01fcdb6f-516a-4360-d244-ea0d37be9e63"
      },
      "execution_count": null,
      "outputs": [
        {
          "output_type": "stream",
          "name": "stdout",
          "text": [
            "Enter a number:12\n",
            "Month have 31 days\n"
          ]
        }
      ]
    },
    {
      "cell_type": "code",
      "source": [
        "#25.Write a program in C which is a Menu-Driven Program to compute the area of the various geometrical shape.\n",
        "print(\"Area of shapes\\n1.Circle\\n2.Triangle\\n3.Square\\n4.Rectangle\\n5.Parallelogram\\n6.Trapezium\")\n",
        "c=int(input(\"Choose your Number: \"))\n",
        "if c==1:\n",
        "    r=float(input(\"Enter radius:\"))\n",
        "    print(\"Area of circle: \", 3.14*r*r)\n",
        "elif c==2:\n",
        "    b=float(input(\"Enter base:\"))\n",
        "    h=float(input(\"Enter height:\"))\n",
        "    print(\"Area of Triangle:\",(0.5*b*h))\n",
        "elif c==3:\n",
        "    b=float(input(\"Enter side:\"))\n",
        "    print(\"Area of Square:\", (b*b))\n",
        "elif c==4:\n",
        "    l=float(input(\"Enter Length:\"))\n",
        "    w=float(input(\"Enter width:\"))\n",
        "    print(\"Area of rectangle:\", (l*w))\n",
        "elif c==5:\n",
        "    b=float(input(\"Enter base:\"))\n",
        "    h=float(input(\"Enter height:\"))\n",
        "    print(\"Area of Parallelogram:\", (b*h))\n",
        "elif c==6:\n",
        "    a=float(input(\"Enter Length of a:\"))\n",
        "    b=float(input(\"Enter Length of b:\"))\n",
        "    h=float(input(\"Enter height:\"))\n",
        "    print(\"Area of Trapezium:\", 0.5*(a+b)*h))\n",
        "\n",
        "else:\n",
        "    print(\"Wrong option selected\")"
      ],
      "metadata": {
        "colab": {
          "base_uri": "https://localhost:8080/"
        },
        "id": "69tcV5RxN3hT",
        "outputId": "df6f34e6-14e9-4d9a-cd69-c1aa10a74753"
      },
      "execution_count": null,
      "outputs": [
        {
          "output_type": "stream",
          "name": "stdout",
          "text": [
            "Area of shapes\n",
            "1.Circle\n",
            "2.Triangle\n",
            "3.Square\n",
            "4.Rectangle\n",
            "5.Parallelogram:\n",
            "\n",
            "Choose your Number: 5\n",
            "Enter base:88\n",
            "Enter height:99\n",
            "Area of Parallelogram: 8712.0\n"
          ]
        }
      ]
    },
    {
      "cell_type": "code",
      "source": [
        "#26\n",
        "a=float(input(\"Enter First number\"))\n",
        "b=float(input(\"Enter Second Number \"))\n",
        "print(\"1.Add\\n2.Sub\\n3.Mul\\n4.Div\\n\")\n",
        "c=int(input(\"Choose your Number: \"))\n",
        "if c==1:\n",
        "  print(a ,\"+\",b ,\"=\",a+b)\n",
        "elif c==2:\n",
        "  print(a ,\"-\",b ,\"=\",a-b)\n",
        "elif c==3:\n",
        "  print(a ,\"*\",b ,\"=\",a*b)\n",
        "elif c==4:\n",
        "  print(a ,\"/\",b ,\"=\",a/b)\n",
        "else:\n",
        "  print(\"Invalid input\")"
      ],
      "metadata": {
        "colab": {
          "base_uri": "https://localhost:8080/"
        },
        "id": "Yl97izx7UqV_",
        "outputId": "172cd5c8-d5f5-443f-ba48-8d8e84a657a7"
      },
      "execution_count": null,
      "outputs": [
        {
          "output_type": "stream",
          "name": "stdout",
          "text": [
            "Enter First number5\n",
            "Enter Second Number 6\n",
            "1.Add\n",
            "2.Sub\n",
            "3.Mul\n",
            "4.Div\n",
            "\n",
            "Choose your Number: 4\n",
            "5.0 / 6.0 = 0.8333333333333334\n"
          ]
        }
      ]
    },
    {
      "cell_type": "code",
      "source": [
        "64"
      ],
      "metadata": {
        "id": "51jZsWUif7Dj"
      },
      "execution_count": null,
      "outputs": []
    }
  ]
}