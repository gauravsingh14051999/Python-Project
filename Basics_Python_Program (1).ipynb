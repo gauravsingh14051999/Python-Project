{
  "nbformat": 4,
  "nbformat_minor": 0,
  "metadata": {
    "colab": {
      "provenance": []
    },
    "kernelspec": {
      "name": "python3",
      "display_name": "Python 3"
    },
    "language_info": {
      "name": "python"
    }
  },
  "cells": [
    {
      "cell_type": "code",
      "execution_count": null,
      "metadata": {
        "colab": {
          "base_uri": "https://localhost:8080/"
        },
        "id": "2atLNyU9wckU",
        "outputId": "244b8722-9ab5-469c-d40f-82a6c1f95758"
      },
      "outputs": [
        {
          "output_type": "stream",
          "name": "stdout",
          "text": [
            "788\n"
          ]
        }
      ],
      "source": [
        "#max number in list\n",
        "def maximum(b):\n",
        "  max=0\n",
        "  for i in b:\n",
        "    if i>max:\n",
        "      max=i\n",
        "  return max\n",
        "\n",
        "\n",
        "a=[20,45,56,788,54,55]\n",
        "print(maximum(a))\n"
      ]
    },
    {
      "cell_type": "code",
      "source": [
        "for i in range(1,6):\n",
        "    for j in range(1,i+1):\n",
        "        print(j,end=\" \")\n",
        "    print()"
      ],
      "metadata": {
        "colab": {
          "base_uri": "https://localhost:8080/"
        },
        "id": "UNGnncJjdspv",
        "outputId": "3588437f-42ef-4562-b355-bf84b60beedd"
      },
      "execution_count": null,
      "outputs": [
        {
          "output_type": "stream",
          "name": "stdout",
          "text": [
            "1 \n",
            "1 2 \n",
            "1 2 3 \n",
            "1 2 3 4 \n",
            "1 2 3 4 5 \n"
          ]
        }
      ]
    },
    {
      "cell_type": "code",
      "source": [
        "#min number in list\n",
        "def minimum(b):\n",
        "  min=b[0]\n",
        "  for i in b:\n",
        "    if i<min:\n",
        "      min=i\n",
        "  return min\n",
        "\n",
        "\n",
        "a=[20,45,56,788,54,55]\n",
        "print(minimum(a))"
      ],
      "metadata": {
        "colab": {
          "base_uri": "https://localhost:8080/"
        },
        "id": "CCLAkyfKzFys",
        "outputId": "b0225450-40d8-4753-e4a6-0196fb92eee6"
      },
      "execution_count": null,
      "outputs": [
        {
          "output_type": "stream",
          "name": "stdout",
          "text": [
            "20\n"
          ]
        }
      ]
    },
    {
      "cell_type": "code",
      "source": [
        "#fibonacci series\n",
        "a=0\n",
        "b=1\n",
        "num=1\n",
        "for i in range(0,10):\n",
        "  print(a,b,end=\" \")\n",
        "  a+=b\n",
        "  b+=a\n"
      ],
      "metadata": {
        "colab": {
          "base_uri": "https://localhost:8080/"
        },
        "id": "Q5zpIy0Szh9P",
        "outputId": "1b80ce42-d8c7-4d49-cc9c-2b681be5bb32"
      },
      "execution_count": null,
      "outputs": [
        {
          "output_type": "stream",
          "name": "stdout",
          "text": [
            "0 1 1 2 3 5 8 13 21 34 55 89 144 233 377 610 987 1597 2584 4181 "
          ]
        }
      ]
    },
    {
      "cell_type": "code",
      "source": [
        "#prime number\n",
        "for i in range(2,50):\n",
        "  for j in range(1,i):\n",
        "    if i%j==0:\n",
        "       break\n",
        "  else:\n",
        "    print(i,end=\" \")"
      ],
      "metadata": {
        "id": "anwPEhgm2PDT"
      },
      "execution_count": null,
      "outputs": []
    },
    {
      "cell_type": "code",
      "source": [
        "x=int(input(\"Enter Number \"))\n",
        "l=[]\n",
        "if x>1:\n",
        "  for j in range(2,x):\n",
        "      for i in range(2,j):\n",
        "          if j%i==0:\n",
        "            #print(\"Not prime no\",x)\n",
        "            break\n",
        "      else:\n",
        "          l.append(j)\n",
        "print(\"The prime number between 1 and 50 are \")\n",
        "for k in l:\n",
        "   print(k,end=\" \")"
      ],
      "metadata": {
        "id": "iEqgpMHV73X3"
      },
      "execution_count": null,
      "outputs": []
    },
    {
      "cell_type": "code",
      "source": [
        "#prime number\n",
        "for i in range(2,50):\n",
        "  for j in range(2,i):\n",
        "    if i%j==0:\n",
        "       break\n",
        "  else:\n",
        "    print(i,end=\" \")"
      ],
      "metadata": {
        "colab": {
          "base_uri": "https://localhost:8080/"
        },
        "id": "VDk72jg28S4A",
        "outputId": "34806039-cd38-4ebe-f35b-ced7740bd7cc"
      },
      "execution_count": null,
      "outputs": [
        {
          "output_type": "stream",
          "name": "stdout",
          "text": [
            "2 3 5 7 11 13 17 19 23 29 31 37 41 43 47 "
          ]
        }
      ]
    },
    {
      "cell_type": "code",
      "source": [
        "#str length >2 and last and first character should be same\n",
        "def check(b):\n",
        "  count=0\n",
        "  for str in b:\n",
        "    if len(str)>=2 and str[0]==str[-1]:\n",
        "       count+=1\n",
        "\n",
        "  return count\n",
        "\n",
        "l=[\"xyx\",\"abc\",\"aaa\",\"hdghj\",\"bvb\"]\n",
        "print(check(l))"
      ],
      "metadata": {
        "colab": {
          "base_uri": "https://localhost:8080/"
        },
        "id": "gR7sUtcK9qLZ",
        "outputId": "51a92c90-f9de-4a9b-87a1-aad004131cba"
      },
      "execution_count": null,
      "outputs": [
        {
          "output_type": "stream",
          "name": "stdout",
          "text": [
            "3\n"
          ]
        }
      ]
    },
    {
      "cell_type": "code",
      "source": [
        "def armstrong(number,count):\n",
        "    y=number\n",
        "    cc=0\n",
        "    b=0\n",
        "    while y>0:\n",
        "\n",
        "        b=y%10\n",
        "        cc+=b**3\n",
        "        y=y//10\n",
        "    return cc\n",
        "\n",
        "\n",
        "\n",
        "a=int(input(\"Enter Number\"))\n",
        "count=0\n",
        "for i in str(a):\n",
        "  count+=1\n",
        "c=armstrong(a,count)\n",
        "\n",
        "if c==a:\n",
        "  print('armstrong',a)\n",
        "else:\n",
        "  print('not armstrong',a)"
      ],
      "metadata": {
        "colab": {
          "base_uri": "https://localhost:8080/"
        },
        "id": "tkmOi43M1EFu",
        "outputId": "0dcff78d-a7d5-4b47-9e63-07252b1cebf7"
      },
      "execution_count": null,
      "outputs": [
        {
          "output_type": "stream",
          "name": "stdout",
          "text": [
            "Enter Number456\n",
            "not armstrong 405\n"
          ]
        }
      ]
    },
    {
      "cell_type": "code",
      "source": [
        "\n",
        "aa=input(\"Enter Number\")\n",
        "\n",
        "if aa==aa[::-1]:\n",
        "  print('palindrome')\n",
        "else:\n",
        "  print('not palindrome')"
      ],
      "metadata": {
        "colab": {
          "base_uri": "https://localhost:8080/"
        },
        "id": "qwuW58Np4M-K",
        "outputId": "72533601-b35c-4b66-dc3c-7d8d7304b0b3"
      },
      "execution_count": null,
      "outputs": [
        {
          "output_type": "stream",
          "name": "stdout",
          "text": [
            "Enter Numberis  a ais\n",
            "not palindrome\n"
          ]
        }
      ]
    },
    {
      "cell_type": "code",
      "source": [
        "a=11\n",
        "x=10\n",
        "for i in range(1,x):\n",
        "  for j in range((x-1)-i):\n",
        "     print(\" \",end=\"\")\n",
        "  for j in str(a**(i-1)):\n",
        "      print(j,end=\" \")\n",
        "\n",
        "  print(\"\")\n",
        "    \n",
        "    "
      ],
      "metadata": {
        "colab": {
          "base_uri": "https://localhost:8080/"
        },
        "id": "cqNv28t19piM",
        "outputId": "b97e03ed-05d4-43d4-d53c-78933e74b364"
      },
      "execution_count": null,
      "outputs": [
        {
          "output_type": "stream",
          "name": "stdout",
          "text": [
            "        1 \n",
            "       1 1 \n",
            "      1 2 1 \n",
            "     1 3 3 1 \n",
            "    1 4 6 4 1 \n",
            "   1 6 1 0 5 1 \n",
            "  1 7 7 1 5 6 1 \n",
            " 1 9 4 8 7 1 7 1 \n",
            "2 1 4 3 5 8 8 8 1 \n"
          ]
        }
      ]
    },
    {
      "cell_type": "code",
      "source": [
        "for i in range(1,5):\n",
        "  for j in range(4-i):\n",
        "    print(end=\" \")\n",
        "  for j in range(1,i+1):\n",
        "    print(i,end=\"\")\n",
        "  print(\"\")"
      ],
      "metadata": {
        "colab": {
          "base_uri": "https://localhost:8080/"
        },
        "id": "ZUEUHlA-GjFD",
        "outputId": "5b070008-b07a-436d-a36d-ae0c25aad87c"
      },
      "execution_count": null,
      "outputs": [
        {
          "output_type": "stream",
          "name": "stdout",
          "text": [
            "   1\n",
            "  22\n",
            " 333\n",
            "4444\n"
          ]
        }
      ]
    },
    {
      "cell_type": "code",
      "source": [
        "#binary number is\n",
        "a=0\n",
        "c=\"\"\n",
        "for i in range(1,10):\n",
        "  a=i\n",
        "  while a>0:\n",
        "      b=a%2   #0 0 0 1 \n",
        "      c=str(b)+c #1000\n",
        "      a=a//2 #4 2 1 0\n",
        "\n",
        "  print(\"Binary number\",i,\"is\",c,\"Maximum number of consecutive 1's is\",c.count('1')-1)\n",
        "  c=\"\"\n"
      ],
      "metadata": {
        "colab": {
          "base_uri": "https://localhost:8080/"
        },
        "id": "EmcbC3LID_IW",
        "outputId": "6ddee68b-b1b4-4e0d-c6fa-40f695b771c5"
      },
      "execution_count": null,
      "outputs": [
        {
          "output_type": "stream",
          "name": "stdout",
          "text": [
            "Binary number 1 is 1 Maximum number of consecutive 1's is 0\n",
            "Binary number 2 is 10 Maximum number of consecutive 1's is 0\n",
            "Binary number 3 is 11 Maximum number of consecutive 1's is 1\n",
            "Binary number 4 is 100 Maximum number of consecutive 1's is 0\n",
            "Binary number 5 is 101 Maximum number of consecutive 1's is 1\n",
            "Binary number 6 is 110 Maximum number of consecutive 1's is 1\n",
            "Binary number 7 is 111 Maximum number of consecutive 1's is 2\n",
            "Binary number 8 is 1000 Maximum number of consecutive 1's is 0\n",
            "Binary number 9 is 1001 Maximum number of consecutive 1's is 1\n"
          ]
        }
      ]
    },
    {
      "cell_type": "code",
      "source": [
        "\n",
        "a=int(input())\n",
        "b=set(map(str,input().split()))\n",
        "print(len(b))"
      ],
      "metadata": {
        "colab": {
          "base_uri": "https://localhost:8080/"
        },
        "id": "LZXJk3ozGGIJ",
        "outputId": "fc743eb2-bf31-4202-f956-2cd12b8c298e"
      },
      "execution_count": null,
      "outputs": [
        {
          "output_type": "stream",
          "name": "stdout",
          "text": [
            "7\n",
            "hjh hjk jkhk hjkk\n",
            "4\n"
          ]
        }
      ]
    },
    {
      "cell_type": "code",
      "source": [
        "a=int(input())\n",
        "c=set()\n",
        "while a>0:\n",
        "    \n",
        "  b=set(map(str,input().split()))\n",
        "  c.update(b)\n",
        "  a-=1\n",
        "\n",
        "print(len(set(c)))"
      ],
      "metadata": {
        "colab": {
          "base_uri": "https://localhost:8080/"
        },
        "id": "1niKKwOqkrJa",
        "outputId": "ef8fe7e2-8290-4160-f72c-7f55d7f21c3d"
      },
      "execution_count": null,
      "outputs": [
        {
          "output_type": "stream",
          "name": "stdout",
          "text": [
            "7\n",
            "uk\n",
            "china\n",
            "us\n",
            "france\n",
            "nz\n",
            "uk\n",
            "france\n",
            "5\n"
          ]
        }
      ]
    },
    {
      "cell_type": "code",
      "source": [
        "c=set()\n",
        "\n",
        "for i in range(int(input())):\n",
        "    c.add(input())\n",
        "    \n",
        "print(len(c))"
      ],
      "metadata": {
        "colab": {
          "base_uri": "https://localhost:8080/"
        },
        "id": "TUY0XhZkwOMG",
        "outputId": "34677152-2838-41ff-f43b-799a6d3c5e7a"
      },
      "execution_count": null,
      "outputs": [
        {
          "output_type": "stream",
          "name": "stdout",
          "text": [
            "7\n",
            "uk\n",
            "china\n",
            "us\n",
            "france\n",
            "nz\n",
            "uk\n",
            "france\n",
            "5\n"
          ]
        }
      ]
    },
    {
      "cell_type": "code",
      "source": [
        "\n"
      ],
      "metadata": {
        "colab": {
          "base_uri": "https://localhost:8080/",
          "height": 336
        },
        "id": "5cs9dZaQX14W",
        "outputId": "b63482a7-9246-441c-dbf7-801a26ac6470"
      },
      "execution_count": null,
      "outputs": [
        {
          "name": "stdout",
          "output_type": "stream",
          "text": [
            "3\n",
            "aa 454\n",
            "ss 464\n",
            "dd 4564\n",
            "aa\n"
          ]
        },
        {
          "output_type": "error",
          "ename": "KeyError",
          "evalue": "ignored",
          "traceback": [
            "\u001b[0;31m---------------------------------------------------------------------------\u001b[0m",
            "\u001b[0;31mKeyError\u001b[0m                                  Traceback (most recent call last)",
            "\u001b[0;32m<ipython-input-5-7d2acfe7a6d2>\u001b[0m in \u001b[0;36m<module>\u001b[0;34m\u001b[0m\n\u001b[1;32m      9\u001b[0m   \u001b[0mlist\u001b[0m\u001b[0;34m=\u001b[0m\u001b[0minput\u001b[0m\u001b[0;34m(\u001b[0m\u001b[0;34m)\u001b[0m\u001b[0;34m\u001b[0m\u001b[0;34m\u001b[0m\u001b[0m\n\u001b[1;32m     10\u001b[0m   \u001b[0;32mif\u001b[0m \u001b[0mlist\u001b[0m \u001b[0;32min\u001b[0m \u001b[0mdict\u001b[0m\u001b[0;34m:\u001b[0m\u001b[0;34m\u001b[0m\u001b[0;34m\u001b[0m\u001b[0m\n\u001b[0;32m---> 11\u001b[0;31m     \u001b[0mprint\u001b[0m\u001b[0;34m(\u001b[0m\u001b[0ml\u001b[0m\u001b[0;34m,\u001b[0m\u001b[0;34m'='\u001b[0m\u001b[0;34m,\u001b[0m\u001b[0mdict\u001b[0m\u001b[0;34m[\u001b[0m\u001b[0ml\u001b[0m\u001b[0;34m]\u001b[0m\u001b[0;34m)\u001b[0m\u001b[0;34m\u001b[0m\u001b[0;34m\u001b[0m\u001b[0m\n\u001b[0m\u001b[1;32m     12\u001b[0m   \u001b[0;32melse\u001b[0m\u001b[0;34m:\u001b[0m\u001b[0;34m\u001b[0m\u001b[0;34m\u001b[0m\u001b[0m\n\u001b[1;32m     13\u001b[0m     \u001b[0mprint\u001b[0m\u001b[0;34m(\u001b[0m\u001b[0;34m'Not Found'\u001b[0m\u001b[0;34m)\u001b[0m\u001b[0;34m\u001b[0m\u001b[0;34m\u001b[0m\u001b[0m\n",
            "\u001b[0;31mKeyError\u001b[0m: 0"
          ]
        }
      ]
    }
  ]
}