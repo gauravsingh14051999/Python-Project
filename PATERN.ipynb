{
 "cells": [
  {
   "cell_type": "code",
   "execution_count": 1,
   "id": "d5ae525c",
   "metadata": {},
   "outputs": [
    {
     "name": "stdout",
     "output_type": "stream",
     "text": [
      "1 \n",
      "1 2 \n",
      "1 2 3 \n",
      "1 2 3 4 \n",
      "1 2 3 4 5 \n"
     ]
    }
   ],
   "source": [
    "#1.\n",
    "for i in range(1,6):\n",
    "    for j in range(1,i+1):\n",
    "        print(j,end=\" \")\n",
    "    print()"
   ]
  },
  {
   "cell_type": "code",
   "execution_count": null,
   "id": "e91918aa",
   "metadata": {},
   "outputs": [],
   "source": []
  },
  {
   "cell_type": "code",
   "execution_count": 3,
   "id": "43a4f826",
   "metadata": {},
   "outputs": [
    {
     "name": "stdout",
     "output_type": "stream",
     "text": [
      "1 \n",
      "2 2 \n",
      "3 3 3 \n",
      "4 4 4 4 \n",
      "5 5 5 5 5 \n"
     ]
    }
   ],
   "source": [
    "#2.\n",
    "for i in range(1,6):\n",
    "    for j in range(1,i+1):\n",
    "        print(i,end=\" \")\n",
    "    print()"
   ]
  },
  {
   "cell_type": "code",
   "execution_count": 6,
   "id": "235c539a",
   "metadata": {},
   "outputs": [
    {
     "name": "stdout",
     "output_type": "stream",
     "text": [
      "1 \n",
      "1 2 \n",
      "1 2 3 \n",
      "1 2 3 4 \n",
      "1 2 3 4 5 \n",
      "1 2 3 4 \n",
      "1 2 3 \n",
      "1 2 \n",
      "1 \n",
      "\n"
     ]
    }
   ],
   "source": [
    "#3\n",
    "sum=0\n",
    "for i in range(1,6):\n",
    "    sum=i\n",
    "    for j in range(1,i+1):\n",
    "        print(j,end=\" \")\n",
    "    print()\n",
    "for i in range(sum,0,-1):\n",
    "    for j in range(1,i):\n",
    "        print(j,end=\" \")\n",
    "    print()        "
   ]
  },
  {
   "cell_type": "code",
   "execution_count": 3,
   "id": "ff3daf51",
   "metadata": {},
   "outputs": [
    {
     "name": "stdout",
     "output_type": "stream",
     "text": [
      "5 4 3 2 1 \n",
      "4 3 2 1 \n",
      "3 2 1 \n",
      "2 1 \n",
      "1 \n",
      "1 \n",
      "2 1 \n",
      "3 2 1 \n",
      "4 3 2 1 \n",
      "5 4 3 2 1 \n"
     ]
    }
   ],
   "source": [
    "#4.\n",
    "for i in range(5,0,-1):\n",
    "    for j in range(i,0,-1):\n",
    "        print(j,end=\" \")\n",
    "    print()\n",
    "for i in range(1,6):\n",
    "    for j in range(i,0,-1):\n",
    "        print(j,end=\" \")\n",
    "    print()"
   ]
  },
  {
   "cell_type": "code",
   "execution_count": 8,
   "id": "20c9fd28",
   "metadata": {},
   "outputs": [
    {
     "name": "stdout",
     "output_type": "stream",
     "text": [
      "    1 \n",
      "   1 2 \n",
      "  1 2 3 \n",
      " 1 2 3 4 \n",
      "1 2 3 4 5 \n"
     ]
    }
   ],
   "source": [
    "#5\n",
    "for i in range(1,6):\n",
    "    for j in range(1,6-i):\n",
    "        print(\" \",end=\"\")\n",
    "    for j in range(1,i+1):\n",
    "        print(j,end=\" \")\n",
    "    print()"
   ]
  },
  {
   "cell_type": "code",
   "execution_count": 9,
   "id": "a9994fde",
   "metadata": {},
   "outputs": [
    {
     "name": "stdout",
     "output_type": "stream",
     "text": [
      "5 4 3 2 1 \n",
      "4 3 2 1 \n",
      "3 2 1 \n",
      "2 1 \n",
      "1 \n"
     ]
    }
   ],
   "source": [
    "#6\n",
    "for i in range(5,0,-1):\n",
    "    for j in range(i,0,-1):\n",
    "        print(j,end=\" \")\n",
    "    print()"
   ]
  },
  {
   "cell_type": "code",
   "execution_count": 11,
   "id": "d051fe6d",
   "metadata": {},
   "outputs": [
    {
     "name": "stdout",
     "output_type": "stream",
     "text": [
      "5 \n",
      "5 4 \n",
      "5 4 3 \n",
      "5 4 3 2 \n",
      "5 4 3 2 1 \n"
     ]
    }
   ],
   "source": [
    "#7.\n",
    "# 5\n",
    "# 54\n",
    "# 543\n",
    "# 5432\n",
    "# 54321\n",
    "\n",
    "for i in range(5,0,-1):\n",
    "    for j in range(5,i-1,-1):\n",
    "        print(j,end=\" \")\n",
    "    print()\n",
    "        \n",
    "\n"
   ]
  },
  {
   "cell_type": "code",
   "execution_count": 1,
   "id": "dac5b14a",
   "metadata": {},
   "outputs": [
    {
     "name": "stdout",
     "output_type": "stream",
     "text": [
      "1 2 3 4 5 \n",
      "1 2 3 4 \n",
      "1 2 3 \n",
      "1 2 \n",
      "1 \n"
     ]
    }
   ],
   "source": [
    "#8\n",
    "for i in range(5,0,-1):\n",
    "    for j in range(1,i+1):\n",
    "        print(j,end=\" \")\n",
    "    print()"
   ]
  },
  {
   "cell_type": "code",
   "execution_count": 2,
   "id": "9b776ca6",
   "metadata": {},
   "outputs": [
    {
     "name": "stdout",
     "output_type": "stream",
     "text": [
      "1 \n",
      "2 3 \n",
      "4 5 6 \n",
      "7 8 9 10 \n",
      "11 12 13 14 15 \n"
     ]
    }
   ],
   "source": [
    "#9\n",
    "sum=0\n",
    "for i in range(1,6):\n",
    "    for j in range(i):\n",
    "        sum+=1\n",
    "        print(sum,end=\" \")\n",
    "    print()"
   ]
  },
  {
   "cell_type": "code",
   "execution_count": 4,
   "id": "6948d0fe",
   "metadata": {},
   "outputs": [
    {
     "name": "stdout",
     "output_type": "stream",
     "text": [
      "1 \n",
      "2 1 \n",
      "3 2 1 \n",
      "4 3 2 1 \n",
      "5 4 3 2 1 \n"
     ]
    }
   ],
   "source": [
    "#10\n",
    "for i in range(1,6):\n",
    "    for j in range(i,0,-1):      \n",
    "        print(j,end=\" \")\n",
    "    print()"
   ]
  },
  {
   "cell_type": "code",
   "execution_count": 6,
   "id": "7c68c650",
   "metadata": {},
   "outputs": [
    {
     "name": "stdout",
     "output_type": "stream",
     "text": [
      "1 \n",
      "2 7 \n",
      "3 8 13 \n",
      "4 9 14 19 \n",
      "5 10 15 20 25 \n"
     ]
    }
   ],
   "source": [
    "#11\n",
    "for i in range(1,6):\n",
    "    for j in range(i,0,-1):      \n",
    "        print(i,end=\" \")\n",
    "        i+=5\n",
    "    print()"
   ]
  },
  {
   "cell_type": "code",
   "execution_count": 16,
   "id": "850d2d2d",
   "metadata": {},
   "outputs": [
    {
     "name": "stdout",
     "output_type": "stream",
     "text": [
      "0\n",
      "1\n",
      "2\n",
      "3\n",
      "4\n",
      "5\n"
     ]
    }
   ],
   "source": []
  },
  {
   "cell_type": "code",
   "execution_count": 22,
   "id": "9a23797a",
   "metadata": {
    "scrolled": true
   },
   "outputs": [
    {
     "name": "stdout",
     "output_type": "stream",
     "text": [
      "1 \n",
      "1 2 1 \n",
      "1 2 3 2 1 \n",
      "1 2 3 4 3 2 1 \n",
      "1 2 3 4 5 4 3 2 1 \n"
     ]
    }
   ],
   "source": [
    "#13\n",
    "for i in range(1,6):\n",
    "    for j in range(1,i+1):\n",
    "         print(j,end=\" \")\n",
    "    for j in range(i-1,0,-1):\n",
    "        print(j,end=\" \")\n",
    "    print()"
   ]
  },
  {
   "cell_type": "code",
   "execution_count": 14,
   "id": "06b21609",
   "metadata": {},
   "outputs": [
    {
     "name": "stdout",
     "output_type": "stream",
     "text": [
      "1 2 3 4 5 \n",
      " 1 2 3 4 \n",
      "  1 2 3 \n",
      "   1 2 \n",
      "    1 \n"
     ]
    }
   ],
   "source": [
    "#15.\n",
    "for i in range(5,0,-1):\n",
    "    for j in range(5-i):\n",
    "        print(\" \",end=\"\")\n",
    "    for j in range(1,i+1):\n",
    "        print(j,end=\" \")\n",
    "    print()\n",
    "    "
   ]
  },
  {
   "cell_type": "code",
   "execution_count": 27,
   "id": "434f9689",
   "metadata": {},
   "outputs": [
    {
     "name": "stdout",
     "output_type": "stream",
     "text": [
      "    1 \n",
      "   1 2 \n",
      "  1 2 3 \n",
      " 1 2 3 4 \n",
      "1 2 3 4 5 \n",
      " 1 2 3 4 \n",
      "  1 2 3 \n",
      "   1 2 \n",
      "    1 \n"
     ]
    }
   ],
   "source": [
    "#16.\n",
    "for i in range(1,6):\n",
    "    for j in range(5-i,0,-1):\n",
    "        print(\" \",end=\"\")\n",
    "    for j in range(1,i+1):\n",
    "        print(j,end=\" \")\n",
    "    print()\n",
    "for i in range(4,0,-1):\n",
    "    for j in range(5-i):\n",
    "        print(\" \",end=\"\")\n",
    "    for j in range(1,i+1):\n",
    "        print(j,end=\" \")\n",
    "    print()"
   ]
  },
  {
   "cell_type": "code",
   "execution_count": 2,
   "id": "dbfb2e59",
   "metadata": {},
   "outputs": [
    {
     "name": "stdout",
     "output_type": "stream",
     "text": [
      "1 2 3 4 5 \n",
      " 2 3 4 5 \n",
      "  3 4 5 \n",
      "   4 5 \n",
      "    5 \n",
      "    5 \n",
      "   4 5 \n",
      "  3 4 5 \n",
      " 2 3 4 5 \n",
      "1 2 3 4 5 \n"
     ]
    }
   ],
   "source": [
    "#17\n",
    "for j in range(1,6):\n",
    "    for i in range(1,j):\n",
    "        print(\" \",end=\"\")\n",
    "    for i in range(j,6):\n",
    "        print(i,end=\" \")\n",
    "    print()\n",
    "for j in range(1,6):\n",
    "    for i in range(5-j):\n",
    "        print(\" \",end=\"\")\n",
    "    for i in range(6-j,6):\n",
    "        print(i,end=\" \")\n",
    "    print()"
   ]
  },
  {
   "cell_type": "code",
   "execution_count": 3,
   "id": "f4104130",
   "metadata": {},
   "outputs": [
    {
     "name": "stdout",
     "output_type": "stream",
     "text": [
      "1 2 3 4 5 \n",
      " 2 3 4 5 \n",
      "  3 4 5 \n",
      "   4 5 \n",
      "    5 \n",
      "    5 \n",
      "   4 5 \n",
      "  3 4 5 \n",
      " 2 3 4 5 \n",
      "1 2 3 4 5 \n"
     ]
    }
   ],
   "source": [
    "#18\n",
    "for j in range(1,6):\n",
    "    for i in range(1,j):\n",
    "        print(\" \",end=\"\")\n",
    "    for i in range(j,6):\n",
    "        print(i,end=\" \")\n",
    "    print()\n",
    "for j in range(1,6):\n",
    "    for i in range(5-j):\n",
    "        print(\" \",end=\"\")\n",
    "    for i in range(6-j,6):\n",
    "        print(i,end=\" \")\n",
    "    print()"
   ]
  },
  {
   "cell_type": "code",
   "execution_count": 4,
   "id": "2dbf5ae3",
   "metadata": {},
   "outputs": [
    {
     "name": "stdout",
     "output_type": "stream",
     "text": [
      "    5 \n",
      "   4 5 \n",
      "  3 4 5 \n",
      " 2 3 4 5 \n",
      "1 2 3 4 5 \n"
     ]
    }
   ],
   "source": [
    "#19.\n",
    "for j in range(1,6):\n",
    "    for i in range(5-j):\n",
    "        print(\" \",end=\"\")\n",
    "    for i in range(6-j,6):\n",
    "        print(i,end=\" \")\n",
    "    print()"
   ]
  },
  {
   "cell_type": "code",
   "execution_count": 7,
   "id": "440b83cb",
   "metadata": {},
   "outputs": [
    {
     "name": "stdout",
     "output_type": "stream",
     "text": [
      "1\n",
      "121\n",
      "12321\n",
      "1234321\n",
      "123454321\n"
     ]
    }
   ],
   "source": [
    "#20\n",
    "for i in range(1,6):\n",
    "    for j in range(1,i+1):\n",
    "        print(j,end=\"\")\n",
    "    for j in range(i-1,0,-1):\n",
    "        print(j,end=\"\")\n",
    "    print()"
   ]
  },
  {
   "cell_type": "code",
   "execution_count": 10,
   "id": "af2d439b",
   "metadata": {},
   "outputs": [
    {
     "name": "stdout",
     "output_type": "stream",
     "text": [
      "1\n",
      "10\n",
      "101\n",
      "1010\n",
      "10101\n"
     ]
    }
   ],
   "source": [
    "#21\n",
    "for i in range(1,6):\n",
    "    for j in range(1,i+1):\n",
    "        print(j%2,end=\"\")\n",
    "    print()"
   ]
  },
  {
   "cell_type": "code",
   "execution_count": 20,
   "id": "1aae9caf",
   "metadata": {},
   "outputs": [
    {
     "name": "stdout",
     "output_type": "stream",
     "text": [
      "1 0 0 0 0 \n",
      "0 2 0 0 0 \n",
      "0 0 3 0 0 \n",
      "0 0 0 4 0 \n",
      "0 0 0 0 5 \n"
     ]
    }
   ],
   "source": [
    "#22\n",
    "for i in range(1,6):\n",
    "    for j in range(1,6):\n",
    "        if i==j:\n",
    "            print(i,end=\" \")\n",
    "        else:\n",
    "            print(0,end=\" \")\n",
    "    print()"
   ]
  },
  {
   "cell_type": "code",
   "execution_count": 24,
   "id": "60f45606",
   "metadata": {},
   "outputs": [
    {
     "name": "stdout",
     "output_type": "stream",
     "text": [
      "1 1 1 1 1 \n",
      "1 1 1 2 2 \n",
      "1 1 3 3 3 \n",
      "1 4 4 4 4 \n",
      "5 5 5 5 5 \n"
     ]
    }
   ],
   "source": [
    "#23.\n",
    "for i in range(1,6):\n",
    "    for j in range(5-i):\n",
    "        print(1,end=\" \")\n",
    "    for j in range(1,i+1):\n",
    "        print(i,end=\" \")\n",
    "    print()\n"
   ]
  },
  {
   "cell_type": "code",
   "execution_count": 3,
   "id": "e57f62a7",
   "metadata": {},
   "outputs": [
    {
     "name": "stdout",
     "output_type": "stream",
     "text": [
      "1 2 3 4 5 4 3 2 1 \n",
      "2 3 4 5 4 3 2 \n",
      "3 4 5 4 3 \n",
      "4 5 4 \n",
      "5 \n"
     ]
    }
   ],
   "source": [
    "#24\n",
    "for i in range(1,6):\n",
    "    for j in range(i,6):\n",
    "        print(j,end=\" \")\n",
    "    for j in range(4,i-1,-1):\n",
    "        print(j,end=\" \")\n",
    "    print()"
   ]
  },
  {
   "cell_type": "code",
   "execution_count": 4,
   "id": "b182321e",
   "metadata": {},
   "outputs": [
    {
     "name": "stdout",
     "output_type": "stream",
     "text": [
      "    1 \n",
      "   2 2 \n",
      "  3 3 3 \n",
      " 4 4 4 4 \n",
      "5 5 5 5 5 \n"
     ]
    }
   ],
   "source": [
    "#25\n",
    "for i in range(1,6):\n",
    "    for j in range(5-i):\n",
    "        print(\" \",end=\"\")\n",
    "    for j in range(1,i+1):\n",
    "        print(i,end=\" \")\n",
    "    print()"
   ]
  },
  {
   "cell_type": "code",
   "execution_count": 9,
   "id": "f22cbdf0",
   "metadata": {},
   "outputs": [
    {
     "name": "stdout",
     "output_type": "stream",
     "text": [
      "5 5 5 5 5 \n",
      "4 5 5 5 5 \n",
      "3 4 5 5 5 \n",
      "2 3 4 5 5 \n",
      "1 2 3 4 5 \n"
     ]
    }
   ],
   "source": [
    "#26\n",
    "for i in range(5,0,-1):\n",
    "    for j in range(i,6):\n",
    "        print(j,end=\" \")\n",
    "    for j in range(i-1):\n",
    "        print(5,end=\" \")\n",
    "    print()"
   ]
  },
  {
   "cell_type": "code",
   "execution_count": 11,
   "id": "ff835be4",
   "metadata": {},
   "outputs": [
    {
     "name": "stdout",
     "output_type": "stream",
     "text": [
      "__init__() takes 1 positional argument but 2 were given\n",
      "completed\n"
     ]
    }
   ],
   "source": [
    "class check:\n",
    "    def __init__(self):\n",
    "        self.name=\"Gaurav Singh\"\n",
    "        self.course=\"Cdac\"\n",
    "    def __str__(self):\n",
    "        return self.name+\" \"+\"Studying in cdackharghar \"+self.course\n",
    "    \n",
    "try:\n",
    "    obj=check(45)\n",
    "    print(obj)\n",
    "except Exception as msg:\n",
    "    print(msg)\n",
    "else:\n",
    "    print(\"program succesfully done\")\n",
    "finally:\n",
    "    print(\"completed\")"
   ]
  },
  {
   "cell_type": "code",
   "execution_count": 351,
   "id": "3f60e124",
   "metadata": {},
   "outputs": [],
   "source": [
    "def gen(x):\n",
    "    while x<100:\n",
    "        x-=1\n",
    "        yield x\n",
    "        \n",
    "for i in range(100):\n",
    "    a=gen(10)\n",
    "    next(a)\n",
    "    "
   ]
  },
  {
   "cell_type": "code",
   "execution_count": 347,
   "id": "94a403e5",
   "metadata": {},
   "outputs": [
    {
     "data": {
      "text/plain": [
       "-273"
      ]
     },
     "execution_count": 347,
     "metadata": {},
     "output_type": "execute_result"
    }
   ],
   "source": [
    "next(a)"
   ]
  },
  {
   "cell_type": "code",
   "execution_count": 2,
   "id": "3aea5eda",
   "metadata": {},
   "outputs": [
    {
     "name": "stdout",
     "output_type": "stream",
     "text": [
      "1 \n",
      "2 6 \n",
      "3 7 10 \n",
      "4 8 11 13 \n",
      "5 9 12 14 15 \n"
     ]
    }
   ],
   "source": [
    "#27\n",
    "for i in range(1,6):\n",
    "    a=4\n",
    "    for j in range(i):\n",
    "        print(i,end=\" \")\n",
    "        i+=a\n",
    "        a-=1\n",
    "    print()\n",
    "        "
   ]
  },
  {
   "cell_type": "code",
   "execution_count": 8,
   "id": "86ec8102",
   "metadata": {},
   "outputs": [
    {
     "name": "stdout",
     "output_type": "stream",
     "text": [
      "1 \n",
      "2 4 \n",
      "3 6 9 \n",
      "4 8 12 16 \n",
      "5 10 15 \n",
      "6 12 \n",
      "7 \n"
     ]
    }
   ],
   "source": [
    "#28\n",
    "for i in range(1,8):\n",
    "    if i<5:\n",
    "        for j in range(1,i+1):\n",
    "            print(i*j,end=\" \")\n",
    "        print()\n",
    "    elif i>=5:\n",
    "        for j in range(1,9-i):\n",
    "            print(i*j,end=\" \")\n",
    "        print()"
   ]
  },
  {
   "cell_type": "code",
   "execution_count": 15,
   "id": "ca3670d0",
   "metadata": {},
   "outputs": [
    {
     "name": "stdout",
     "output_type": "stream",
     "text": [
      "\n",
      "\n",
      "3 \n",
      "4 9 \n",
      "5 10 14 \n"
     ]
    }
   ],
   "source": [
    "#29\n",
    "\n",
    "for i in range(1,6):\n",
    "    sum=0\n",
    "    sum+=i\n",
    "    for j in range(3,i+1):\n",
    "        print(sum,end=\" \")\n",
    "        sum+=8-(j-1)\n",
    "    print()"
   ]
  },
  {
   "cell_type": "code",
   "execution_count": 3,
   "id": "a79478cb",
   "metadata": {},
   "outputs": [
    {
     "name": "stdout",
     "output_type": "stream",
     "text": [
      "5 5 5 5 5 \n",
      "5 4 4 4 4 \n",
      "5 4 3 3 3 \n",
      "5 4 3 2 2 \n",
      "5 4 3 2 1 \n"
     ]
    }
   ],
   "source": [
    "#31\n",
    "for i in range(5,0,-1):\n",
    "    for j in range(5,i-1,-1):\n",
    "        print(j,end=\" \")\n",
    "    for j in range(i-1):\n",
    "        print(i,end=\" \")\n",
    "    print()"
   ]
  },
  {
   "cell_type": "code",
   "execution_count": 12,
   "id": "d304778a",
   "metadata": {},
   "outputs": [
    {
     "name": "stdout",
     "output_type": "stream",
     "text": [
      "1 \n",
      "1 2 \n",
      "1 2 4 \n",
      "1 2 4 6 \n",
      "1 2 4 6 8 \n"
     ]
    }
   ],
   "source": [
    "for j in range(1,6):\n",
    "    sum=0\n",
    "    a=1\n",
    "    b=0\n",
    "    for i in range(1,j+1):\n",
    "        \n",
    "        sum=a+b\n",
    "        print(sum,end=\" \") \n",
    "        a=i\n",
    "        b=a\n",
    "        \n",
    "    print()"
   ]
  },
  {
   "cell_type": "code",
   "execution_count": 1,
   "id": "5d07a537",
   "metadata": {},
   "outputs": [
    {
     "name": "stdout",
     "output_type": "stream",
     "text": [
      "Requirement already satisfied: mysql-connector-python in c:\\users\\hello\\desktop\\anaconda\\lib\\site-packages (8.0.31)\n",
      "Requirement already satisfied: protobuf<=3.20.1,>=3.11.0 in c:\\users\\hello\\desktop\\anaconda\\lib\\site-packages (from mysql-connector-python) (3.20.1)\n",
      "Note: you may need to restart the kernel to use updated packages.\n"
     ]
    }
   ],
   "source": [
    "pip install mysql-connector-python"
   ]
  },
  {
   "cell_type": "code",
   "execution_count": 1,
   "id": "ec650623",
   "metadata": {},
   "outputs": [],
   "source": [
    "import mysql.connector\n",
    "con=mysql.connector.connect(\n",
    "    host ='localhost', username='root',password='cdac',database='library'\n",
    ")"
   ]
  },
  {
   "cell_type": "code",
   "execution_count": 3,
   "id": "bcd13bf3",
   "metadata": {},
   "outputs": [
    {
     "name": "stdout",
     "output_type": "stream",
     "text": [
      "Enter Your Password Gaurav1405\n",
      "                Library\n",
      "    1.Add Book\n",
      "    2.Issue Book\n",
      "    3.Submit Book\n",
      "    4.Delete Book\n",
      "    5.Display book\n",
      "    Enter your choice\n",
      "1\n",
      "Enter Book name: ghgfhf\n",
      "Book Code: 555\n",
      "Total Book: 4\n",
      "Enter Subject: rhrh\n"
     ]
    },
    {
     "ename": "ProgrammingError",
     "evalue": "1064 (42000): You have an error in your SQL syntax; check the manual that corresponds to your MySQL server version for the right syntax to use near '4'rhrh')' at line 1",
     "output_type": "error",
     "traceback": [
      "\u001b[1;31m---------------------------------------------------------------------------\u001b[0m",
      "\u001b[1;31mMySQLInterfaceError\u001b[0m                       Traceback (most recent call last)",
      "\u001b[1;32m~\\Desktop\\Anaconda\\lib\\site-packages\\mysql\\connector\\connection_cext.py\u001b[0m in \u001b[0;36mcmd_query\u001b[1;34m(self, query, raw, buffered, raw_as_string)\u001b[0m\n\u001b[0;32m    564\u001b[0m                 \u001b[0mquery\u001b[0m \u001b[1;33m=\u001b[0m \u001b[0mquery\u001b[0m\u001b[1;33m.\u001b[0m\u001b[0mencode\u001b[0m\u001b[1;33m(\u001b[0m\u001b[1;34m\"utf-8\"\u001b[0m\u001b[1;33m)\u001b[0m\u001b[1;33m\u001b[0m\u001b[1;33m\u001b[0m\u001b[0m\n\u001b[1;32m--> 565\u001b[1;33m             self._cmysql.query(\n\u001b[0m\u001b[0;32m    566\u001b[0m                 \u001b[0mquery\u001b[0m\u001b[1;33m,\u001b[0m\u001b[1;33m\u001b[0m\u001b[1;33m\u001b[0m\u001b[0m\n",
      "\u001b[1;31mMySQLInterfaceError\u001b[0m: You have an error in your SQL syntax; check the manual that corresponds to your MySQL server version for the right syntax to use near '4'rhrh')' at line 1",
      "\nThe above exception was the direct cause of the following exception:\n",
      "\u001b[1;31mProgrammingError\u001b[0m                          Traceback (most recent call last)",
      "\u001b[1;32m~\\AppData\\Local\\Temp\\ipykernel_13252\\4249083225.py\u001b[0m in \u001b[0;36m<module>\u001b[1;34m\u001b[0m\n\u001b[0;32m    111\u001b[0m \u001b[1;33m\u001b[0m\u001b[0m\n\u001b[0;32m    112\u001b[0m \u001b[1;33m\u001b[0m\u001b[0m\n\u001b[1;32m--> 113\u001b[1;33m \u001b[0mpswd\u001b[0m\u001b[1;33m(\u001b[0m\u001b[1;33m)\u001b[0m\u001b[1;33m\u001b[0m\u001b[1;33m\u001b[0m\u001b[0m\n\u001b[0m",
      "\u001b[1;32m~\\AppData\\Local\\Temp\\ipykernel_13252\\4249083225.py\u001b[0m in \u001b[0;36mpswd\u001b[1;34m()\u001b[0m\n\u001b[0;32m    104\u001b[0m     \u001b[0ma\u001b[0m\u001b[1;33m=\u001b[0m\u001b[0minput\u001b[0m\u001b[1;33m(\u001b[0m\u001b[1;34m\"Enter Your Password \"\u001b[0m\u001b[1;33m)\u001b[0m\u001b[1;33m\u001b[0m\u001b[1;33m\u001b[0m\u001b[0m\n\u001b[0;32m    105\u001b[0m     \u001b[1;32mif\u001b[0m \u001b[0ma\u001b[0m\u001b[1;33m==\u001b[0m\u001b[1;34m'Gaurav1405'\u001b[0m\u001b[1;33m:\u001b[0m\u001b[1;33m\u001b[0m\u001b[1;33m\u001b[0m\u001b[0m\n\u001b[1;32m--> 106\u001b[1;33m          \u001b[0mmain\u001b[0m\u001b[1;33m(\u001b[0m\u001b[1;33m)\u001b[0m\u001b[1;33m\u001b[0m\u001b[1;33m\u001b[0m\u001b[0m\n\u001b[0m\u001b[0;32m    107\u001b[0m     \u001b[1;32melse\u001b[0m\u001b[1;33m:\u001b[0m\u001b[1;33m\u001b[0m\u001b[1;33m\u001b[0m\u001b[0m\n\u001b[0;32m    108\u001b[0m         \u001b[0mprint\u001b[0m\u001b[1;33m(\u001b[0m\u001b[1;34m\"Wrong Password Enter again\"\u001b[0m\u001b[1;33m)\u001b[0m\u001b[1;33m\u001b[0m\u001b[1;33m\u001b[0m\u001b[0m\n",
      "\u001b[1;32m~\\AppData\\Local\\Temp\\ipykernel_13252\\4249083225.py\u001b[0m in \u001b[0;36mmain\u001b[1;34m()\u001b[0m\n\u001b[0;32m     88\u001b[0m     \u001b[0mn\u001b[0m\u001b[1;33m=\u001b[0m\u001b[0mint\u001b[0m\u001b[1;33m(\u001b[0m\u001b[0minput\u001b[0m\u001b[1;33m(\u001b[0m\u001b[1;33m)\u001b[0m\u001b[1;33m)\u001b[0m\u001b[1;33m\u001b[0m\u001b[1;33m\u001b[0m\u001b[0m\n\u001b[0;32m     89\u001b[0m     \u001b[1;32mif\u001b[0m \u001b[0mn\u001b[0m\u001b[1;33m==\u001b[0m\u001b[1;36m1\u001b[0m\u001b[1;33m:\u001b[0m\u001b[1;33m\u001b[0m\u001b[1;33m\u001b[0m\u001b[0m\n\u001b[1;32m---> 90\u001b[1;33m         \u001b[0maddbook\u001b[0m\u001b[1;33m(\u001b[0m\u001b[1;33m)\u001b[0m\u001b[1;33m\u001b[0m\u001b[1;33m\u001b[0m\u001b[0m\n\u001b[0m\u001b[0;32m     91\u001b[0m     \u001b[1;32melif\u001b[0m \u001b[0mn\u001b[0m\u001b[1;33m==\u001b[0m\u001b[1;36m2\u001b[0m\u001b[1;33m:\u001b[0m\u001b[1;33m\u001b[0m\u001b[1;33m\u001b[0m\u001b[0m\n\u001b[0;32m     92\u001b[0m         \u001b[0missuebook\u001b[0m\u001b[1;33m(\u001b[0m\u001b[1;33m)\u001b[0m\u001b[1;33m\u001b[0m\u001b[1;33m\u001b[0m\u001b[0m\n",
      "\u001b[1;32m~\\AppData\\Local\\Temp\\ipykernel_13252\\4249083225.py\u001b[0m in \u001b[0;36maddbook\u001b[1;34m()\u001b[0m\n\u001b[0;32m      7\u001b[0m     \u001b[0msql\u001b[0m\u001b[1;33m=\u001b[0m\u001b[1;34m\"insert into books values(%s%s%s%s)\"\u001b[0m\u001b[1;33m\u001b[0m\u001b[1;33m\u001b[0m\u001b[0m\n\u001b[0;32m      8\u001b[0m     \u001b[0mc\u001b[0m\u001b[1;33m=\u001b[0m\u001b[0mcon\u001b[0m\u001b[1;33m.\u001b[0m\u001b[0mcursor\u001b[0m\u001b[1;33m(\u001b[0m\u001b[1;33m)\u001b[0m\u001b[1;33m\u001b[0m\u001b[1;33m\u001b[0m\u001b[0m\n\u001b[1;32m----> 9\u001b[1;33m     \u001b[0mc\u001b[0m\u001b[1;33m.\u001b[0m\u001b[0mexecute\u001b[0m\u001b[1;33m(\u001b[0m\u001b[0msql\u001b[0m\u001b[1;33m,\u001b[0m\u001b[0mdata\u001b[0m\u001b[1;33m)\u001b[0m\u001b[1;33m\u001b[0m\u001b[1;33m\u001b[0m\u001b[0m\n\u001b[0m\u001b[0;32m     10\u001b[0m     \u001b[0mcon\u001b[0m\u001b[1;33m.\u001b[0m\u001b[0mcommit\u001b[0m\u001b[1;33m(\u001b[0m\u001b[1;33m)\u001b[0m\u001b[1;33m\u001b[0m\u001b[1;33m\u001b[0m\u001b[0m\n\u001b[0;32m     11\u001b[0m     \u001b[0mprint\u001b[0m\u001b[1;33m(\u001b[0m\u001b[1;34m\"--------------------------------------------------\"\u001b[0m\u001b[1;33m)\u001b[0m\u001b[1;33m\u001b[0m\u001b[1;33m\u001b[0m\u001b[0m\n",
      "\u001b[1;32m~\\Desktop\\Anaconda\\lib\\site-packages\\mysql\\connector\\cursor_cext.py\u001b[0m in \u001b[0;36mexecute\u001b[1;34m(self, operation, params, multi)\u001b[0m\n\u001b[0;32m    277\u001b[0m \u001b[1;33m\u001b[0m\u001b[0m\n\u001b[0;32m    278\u001b[0m         \u001b[1;32mtry\u001b[0m\u001b[1;33m:\u001b[0m\u001b[1;33m\u001b[0m\u001b[1;33m\u001b[0m\u001b[0m\n\u001b[1;32m--> 279\u001b[1;33m             result = self._cnx.cmd_query(\n\u001b[0m\u001b[0;32m    280\u001b[0m                 \u001b[0mstmt\u001b[0m\u001b[1;33m,\u001b[0m\u001b[1;33m\u001b[0m\u001b[1;33m\u001b[0m\u001b[0m\n\u001b[0;32m    281\u001b[0m                 \u001b[0mraw\u001b[0m\u001b[1;33m=\u001b[0m\u001b[0mself\u001b[0m\u001b[1;33m.\u001b[0m\u001b[0m_raw\u001b[0m\u001b[1;33m,\u001b[0m\u001b[1;33m\u001b[0m\u001b[1;33m\u001b[0m\u001b[0m\n",
      "\u001b[1;32m~\\Desktop\\Anaconda\\lib\\site-packages\\mysql\\connector\\connection_cext.py\u001b[0m in \u001b[0;36mcmd_query\u001b[1;34m(self, query, raw, buffered, raw_as_string)\u001b[0m\n\u001b[0;32m    571\u001b[0m             )\n\u001b[0;32m    572\u001b[0m         \u001b[1;32mexcept\u001b[0m \u001b[0mMySQLInterfaceError\u001b[0m \u001b[1;32mas\u001b[0m \u001b[0merr\u001b[0m\u001b[1;33m:\u001b[0m\u001b[1;33m\u001b[0m\u001b[1;33m\u001b[0m\u001b[0m\n\u001b[1;32m--> 573\u001b[1;33m             raise get_mysql_exception(\n\u001b[0m\u001b[0;32m    574\u001b[0m                 \u001b[0merr\u001b[0m\u001b[1;33m.\u001b[0m\u001b[0merrno\u001b[0m\u001b[1;33m,\u001b[0m \u001b[0mmsg\u001b[0m\u001b[1;33m=\u001b[0m\u001b[0merr\u001b[0m\u001b[1;33m.\u001b[0m\u001b[0mmsg\u001b[0m\u001b[1;33m,\u001b[0m \u001b[0msqlstate\u001b[0m\u001b[1;33m=\u001b[0m\u001b[0merr\u001b[0m\u001b[1;33m.\u001b[0m\u001b[0msqlstate\u001b[0m\u001b[1;33m\u001b[0m\u001b[1;33m\u001b[0m\u001b[0m\n\u001b[0;32m    575\u001b[0m             ) from err\n",
      "\u001b[1;31mProgrammingError\u001b[0m: 1064 (42000): You have an error in your SQL syntax; check the manual that corresponds to your MySQL server version for the right syntax to use near '4'rhrh')' at line 1"
     ]
    }
   ],
   "source": [
    "def addbook():\n",
    "    bn=input(\"Enter Book name: \")\n",
    "    c=input(\"Book Code: \")\n",
    "    t=int(input(\"Total Book: \"))\n",
    "    s=input(\"Enter Subject: \")\n",
    "    data=(bn,c,t,s)\n",
    "    sql=\"insert into books values(%s%s%s%s)\"\n",
    "    c=con.cursor()\n",
    "    c.execute(sql,data)\n",
    "    con.commit()\n",
    "    print(\"--------------------------------------------------\")\n",
    "    print*(\"Data Entered Successfully\")\n",
    "    main()\n",
    "\n",
    "def issuebook():\n",
    "    n=input(\"Enter name: \")\n",
    "    r=input(\"Book Regno: \")\n",
    "    co=input(\"Enter Book Code: \")\n",
    "    d=input(\"Enter Date: \")\n",
    "    data=(n,r,co,d)\n",
    "    a=\"insert into issue values(%s%s%s%s)\"\n",
    "    c=con.cursor()\n",
    "    c.execute(a,data)\n",
    "    con.commit()\n",
    "    print(\"--------------------------------------------------\")\n",
    "    print(\"Book issued to: \",n)   \n",
    "    bookup(co,-1) \n",
    "    \n",
    "\n",
    "def submitbook():\n",
    "    n=input(\"Enter name: \")\n",
    "    r=input(\"Book Regno: \")\n",
    "    co=input(\"Enter Book Code: \")\n",
    "    d=input(\"Enter Date: \")\n",
    "    data=(n,r,co,d)\n",
    "    a=\"insert into issue values(%s%s%s%s)\"\n",
    "    c=con.cursor()\n",
    "    c.execute(a,data)\n",
    "    con.commit()\n",
    "    print(\"--------------------------------------------------\")\n",
    "    print(\"Book isubmitted from: \",n)   \n",
    "    bookup(co,1) \n",
    "    \n",
    "    \n",
    "def bookup(co,u):\n",
    "    a=\"Select TOTAL from books where BCODE=%s\"\n",
    "    data=(co,)\n",
    "    c=con.cursor()\n",
    "    c.execute(a,data)\n",
    "    myresult=c.fetchone()\n",
    "    t=myresult[0]+u\n",
    "    sql=\"update books set TOTAL=%s where BCODE=%s\"\n",
    "    d=(t,co)\n",
    "    c.execute(sql,d)\n",
    "    con.commit()\n",
    "    main()\n",
    "    \n",
    "def deletebook():\n",
    "    ac=input(\"Enter Book Code: \")\n",
    "    a=\"delete from books where BCODE=%s\"\n",
    "    d=(ac,)\n",
    "    c=con.cursor()\n",
    "    c.execute(a,ac)\n",
    "    con.commit()\n",
    "    main()\n",
    "\n",
    "def displaybook():\n",
    "    s=\"Select * from book\"\n",
    "    c=con.cursor()\n",
    "    c.execute(a)\n",
    "    result=c.fetchall()\n",
    "    for i in result:\n",
    "        print(\"Book Name\",i[0])\n",
    "        print(\"Book Code\",i[1])\n",
    "        print(\"Total\",i[2])\n",
    "        print('--------------------------------')\n",
    "        main()\n",
    "    \n",
    "def main():\n",
    "    print('''                Library\n",
    "    1.Add Book\n",
    "    2.Issue Book\n",
    "    3.Submit Book\n",
    "    4.Delete Book\n",
    "    5.Display book\n",
    "    Enter your choice'''\n",
    "    )\n",
    "    n=int(input())\n",
    "    if n==1:\n",
    "        addbook()\n",
    "    elif n==2:\n",
    "        issuebook()\n",
    "    elif n==3:\n",
    "        submitbook()\n",
    "    elif n==4:\n",
    "        delbook()\n",
    "    elif n==5:\n",
    "        displaybook()\n",
    "    else:\n",
    "        print(\"Wrong input\")\n",
    "        main()\n",
    "def pswd():\n",
    "    \n",
    "    a=input(\"Enter Your Password \")\n",
    "    if a=='Gaurav1405':\n",
    "         main()\n",
    "    else:\n",
    "        print(\"Wrong Password Enter again\")\n",
    "        pswd()\n",
    "    \n",
    "\n",
    "\n",
    "pswd()"
   ]
  },
  {
   "cell_type": "code",
   "execution_count": 11,
   "id": "60e78f39",
   "metadata": {},
   "outputs": [
    {
     "name": "stdout",
     "output_type": "stream",
     "text": [
      "0 1 1 2 3 5 8 13 21 34 55 89 144 233 377 610 987 1597 "
     ]
    }
   ],
   "source": [
    "a=0\n",
    "b=1\n",
    "for i in range(1,10):\n",
    "    print(a,b,end=\" \")\n",
    "    a+=b\n",
    "    b+=a\n",
    "  "
   ]
  },
  {
   "cell_type": "code",
   "execution_count": 11,
   "id": "fd9149c2",
   "metadata": {},
   "outputs": [
    {
     "name": "stdout",
     "output_type": "stream",
     "text": [
      "5\n",
      "1 3 5 7 9 \n",
      "9 1 3 5 7 \n",
      "7 9 1 3 5 \n",
      "5 7 9 1 3 \n",
      "3 5 7 9 1 \n"
     ]
    }
   ],
   "source": [
    "#137\n",
    "n=int(input())\n",
    "list=[]\n",
    "for i in range(1,n*2,2):\n",
    "    list.append(i)\n",
    "#print(list)\n",
    "for i in range(len(list)):\n",
    "   \n",
    "#     print(list)\n",
    "    for j in list:\n",
    "        print(j,end=\" \")\n",
    "    print()\n",
    "    e=list.pop()\n",
    "    list.insert(0,e)"
   ]
  },
  {
   "cell_type": "code",
   "execution_count": 12,
   "id": "8d85e8b4",
   "metadata": {},
   "outputs": [
    {
     "name": "stdout",
     "output_type": "stream",
     "text": [
      "5\n",
      "1 3 5 7 9 \n",
      "3 5 7 9 1 \n",
      "5 7 9 1 3 \n",
      "7 9 1 3 5 \n",
      "9 1 3 5 7 \n"
     ]
    }
   ],
   "source": [
    "n=int(input())\n",
    "list=[]\n",
    "for i in range(1,n*2,2):\n",
    "    list.append(i)\n",
    "#print(list)\n",
    "for i in range(len(list)):\n",
    "   \n",
    "#     print(list)\n",
    "    for j in list:\n",
    "        print(j,end=\" \")\n",
    "    print()\n",
    "    e=list.pop(0)\n",
    "    list.append(e)"
   ]
  },
  {
   "cell_type": "code",
   "execution_count": 23,
   "id": "8482894e",
   "metadata": {},
   "outputs": [
    {
     "name": "stdout",
     "output_type": "stream",
     "text": [
      "1        1\n",
      "12      21\n",
      "123    321\n",
      "1234  4321\n",
      "1234554321\n"
     ]
    }
   ],
   "source": [
    "for i in range(1,6):\n",
    "    for j in range(1,i+1):\n",
    "        print(j,end=\"\")\n",
    "    for j in range(10-2*i):\n",
    "        print(\" \",end=\"\")\n",
    "    for j in range(i,0,-1):\n",
    "        print(j,end=\"\")\n",
    "    print()"
   ]
  }
 ],
 "metadata": {
  "kernelspec": {
   "display_name": "Python 3 (ipykernel)",
   "language": "python",
   "name": "python3"
  },
  "language_info": {
   "codemirror_mode": {
    "name": "ipython",
    "version": 3
   },
   "file_extension": ".py",
   "mimetype": "text/x-python",
   "name": "python",
   "nbconvert_exporter": "python",
   "pygments_lexer": "ipython3",
   "version": "3.9.13"
  }
 },
 "nbformat": 4,
 "nbformat_minor": 5
}
